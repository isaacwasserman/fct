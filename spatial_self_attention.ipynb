{
 "cells": [
  {
   "cell_type": "code",
   "execution_count": 1,
   "metadata": {},
   "outputs": [],
   "source": [
    "import torch\n",
    "from einops import rearrange"
   ]
  },
  {
   "cell_type": "code",
   "execution_count": 48,
   "metadata": {},
   "outputs": [],
   "source": [
    "def spatial_self_attention(Q, K, V):\n",
    "    \"\"\"\n",
    "    Q: (B, D, H, W)\n",
    "    K: (B, D, H, W)\n",
    "    V: (B, D, H, W)\n",
    "    \"\"\"\n",
    "    B, D, H, W = Q.shape\n",
    "    Q = rearrange(Q, \"b d h w -> b (h w) d\")  # (B, HW, D)\n",
    "    K = rearrange(K, \"b d h w -> b (h w) d\")  # (B, HW, D)\n",
    "    V = rearrange(V, \"b d h w -> b (h w) d\")  # (B, HW, D)\n",
    "\n",
    "    QK = Q @ K.transpose(-2, -1)  # (B, HW, HW)\n",
    "    QK = torch.nn.functional.softmax(QK, dim=-1)  # (B, HW, HW)\n",
    "\n",
    "    QKV = QK @ V  # (B, HW, D)\n",
    "    QKV = rearrange(QKV, \"b (h w) d -> b d h w\", h=H)  # (B, D, H, W)\n",
    "    return QKV"
   ]
  },
  {
   "cell_type": "code",
   "execution_count": 49,
   "metadata": {},
   "outputs": [],
   "source": [
    "def spatial_linear_self_attention(Q, K, V):\n",
    "    \"\"\"\n",
    "    Q: (B, D, H, W)\n",
    "    K: (B, D, H, W)\n",
    "    V: (B, D, H, W)\n",
    "    \"\"\"\n",
    "    B, D, H, W = Q.shape\n",
    "    Q = rearrange(Q, \"b d h w -> b (h w) d\")  # (B, HW, D)\n",
    "    K = rearrange(K, \"b d h w -> b (h w) d\")  # (B, HW, D)\n",
    "    V = rearrange(V, \"b d h w -> b (h w) d\")  # (B, HW, D)\n",
    "\n",
    "    Q = torch.nn.functional.softmax(Q, dim=-2)  # (B, HW, D)\n",
    "    K = torch.nn.functional.softmax(K, dim=-1)  # (B, HW, D)\n",
    "\n",
    "    KV = K.transpose(-2, -1) @ V  # (B, HW, D)\n",
    "    QKV = Q @ KV  # (B, HW, D)\n",
    "    QKV = rearrange(QKV, \"b (h w) d -> b d h w\", h=H)  # (B, D, H, W)\n",
    "    return QKV"
   ]
  },
  {
   "cell_type": "code",
   "execution_count": 50,
   "metadata": {},
   "outputs": [
    {
     "data": {
      "text/plain": [
       "torch.Size([16, 32, 256])"
      ]
     },
     "execution_count": 50,
     "metadata": {},
     "output_type": "execute_result"
    }
   ],
   "source": [
    "torch.nn.functional.softmax(torch.randn(B, H * W, D), dim=-2).shape"
   ]
  },
  {
   "cell_type": "code",
   "execution_count": 52,
   "metadata": {},
   "outputs": [
    {
     "name": "stdout",
     "output_type": "stream",
     "text": [
      "torch.Size([16, 256, 4, 8]) torch.Size([16, 256, 4, 8])\n",
      "tensor(59.5511)\n"
     ]
    }
   ],
   "source": [
    "B, D, H, W = 16, 256, 4, 8\n",
    "Q = torch.rand(B, D, H, W)\n",
    "K = torch.rand(B, D, H, W)\n",
    "V = torch.rand(B, D, H, W)\n",
    "\n",
    "quadratic = spatial_self_attention(Q, K, V)\n",
    "linear = spatial_linear_self_attention(Q, K, V)\n",
    "print(quadratic.shape, linear.shape)\n",
    "\n",
    "norm = torch.norm(quadratic - linear)\n",
    "print(norm)"
   ]
  }
 ],
 "metadata": {
  "kernelspec": {
   "display_name": "pytorch",
   "language": "python",
   "name": "python3"
  },
  "language_info": {
   "codemirror_mode": {
    "name": "ipython",
    "version": 3
   },
   "file_extension": ".py",
   "mimetype": "text/x-python",
   "name": "python",
   "nbconvert_exporter": "python",
   "pygments_lexer": "ipython3",
   "version": "3.10.9"
  }
 },
 "nbformat": 4,
 "nbformat_minor": 2
}
