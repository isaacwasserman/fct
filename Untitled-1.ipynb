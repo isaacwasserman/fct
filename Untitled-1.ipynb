{
 "cells": [
  {
   "cell_type": "code",
   "execution_count": 1,
   "metadata": {},
   "outputs": [],
   "source": [
    "import torch\n",
    "import torch.utils\n",
    "import torchvision\n",
    "import matplotlib.pyplot as plt\n",
    "import lightning as L\n",
    "from lightning.pytorch.callbacks import LearningRateMonitor, ModelCheckpoint\n",
    "import os\n",
    "import numpy as np\n",
    "from einops import rearrange\n",
    "from utils import *\n",
    "from tqdm.auto import tqdm\n",
    "import gc\n",
    "from torch.utils.tensorboard import SummaryWriter\n",
    "import time\n",
    "from fct import *\n",
    "import gdown\n",
    "import zipfile\n",
    "import shutil\n",
    "import glob\n",
    "import h5py\n",
    "import warnings\n",
    "from line_profiler import LineProfiler\n",
    "from torchmetrics.classification import MulticlassAccuracy\n",
    "from skimage.color import label2rgb\n",
    "\n",
    "def get_dataset(batch_size=64, image_transform=None, label_transform=None, num_workers=4):\n",
    "    downloaded = os.path.exists(\"data/VOCdevkit/VOC2012\")\n",
    "    train_ds = torchvision.datasets.VOCSegmentation(\"data\", year=\"2012\", image_set=\"train\", download=not downloaded, transform=image_transform, target_transform=label_transform)\n",
    "    val_ds = torchvision.datasets.VOCSegmentation(\"data\", year=\"2012\", image_set=\"val\", download=not downloaded, transform=image_transform, target_transform=label_transform)\n",
    "\n",
    "    train_loader = torch.utils.data.DataLoader(\n",
    "        train_ds, batch_size=batch_size, shuffle=True, drop_last=True, pin_memory=True, num_workers=num_workers\n",
    "    )\n",
    "    val_loader = torch.utils.data.DataLoader(\n",
    "        val_ds, batch_size=batch_size, shuffle=False, drop_last=False, num_workers=num_workers\n",
    "    )\n",
    "    test_loader = torch.utils.data.DataLoader(\n",
    "        val_ds, batch_size=batch_size, shuffle=False, drop_last=False, num_workers=num_workers\n",
    "    )\n",
    "    return train_loader, val_loader, test_loader\n",
    "\n",
    "ds_mean = [0.49139968, 0.48215841, 0.44653091]\n",
    "ds_std = [0.24703223, 0.24348513, 0.26158784]\n",
    "image_transform = torchvision.transforms.Compose(\n",
    "    [\n",
    "        torchvision.transforms.ToTensor(),\n",
    "        torchvision.transforms.Resize((256, 256)),\n",
    "        torchvision.transforms.Normalize(ds_mean, ds_std),\n",
    "    ]\n",
    ")\n",
    "label_transform = torchvision.transforms.Compose(\n",
    "    [\n",
    "        torchvision.transforms.Resize((256, 256), interpolation=torchvision.transforms.InterpolationMode.NEAREST),\n",
    "        torchvision.transforms.Lambda(lambda x: torch.tensor(np.array(x)).long()),\n",
    "    ]\n",
    ")\n",
    "\n",
    "train_loader, val_loader, test_loader = get_dataset(image_transform=image_transform, label_transform=label_transform, batch_size=16)"
   ]
  },
  {
   "cell_type": "code",
   "execution_count": 14,
   "metadata": {},
   "outputs": [
    {
     "name": "stdout",
     "output_type": "stream",
     "text": [
      "torch.Size([16, 3, 256, 256]) torch.Size([16, 256, 256])\n"
     ]
    }
   ],
   "source": [
    "batch = next(iter(train_loader))\n",
    "x, y = batch\n",
    "print(x.shape, y.shape)"
   ]
  },
  {
   "cell_type": "code",
   "execution_count": 16,
   "metadata": {},
   "outputs": [
    {
     "name": "stdout",
     "output_type": "stream",
     "text": [
      "tensor([  0,  10, 255])\n"
     ]
    },
    {
     "data": {
      "image/png": "[encoded data removed]",
      "text/plain": [
       "<Figure size 640x480 with 1 Axes>"
      ]
     },
     "metadata": {},
     "output_type": "display_data"
    }
   ],
   "source": [
    "# Show batch as image\n",
    "def show_batch(x, y=None):\n",
    "    print(y[0].unique())\n",
    "    # y_colorized = [pascal_palette[image.cpu().numpy()] for image in y]\n",
    "    y_colorized = pascal_palette[y.cpu().numpy()]\n",
    "    plt.imshow(y_colorized[1])\n",
    "\n",
    "show_batch(x, y)"
   ]
  },
  {
   "cell_type": "code",
   "execution_count": 4,
   "metadata": {},
   "outputs": [
    {
     "data": {
      "text/plain": [
       "array([[  0,   0,   0, ...,   0,   0,   0],\n",
       "       [  0,   0,   0, ...,   0,   0,   0],\n",
       "       [  0,   0,   0, ...,   0,   0,   0],\n",
       "       ...,\n",
       "       [255, 255, 255, ..., 255, 255, 255],\n",
       "       [255, 255, 255, ..., 255, 255, 255],\n",
       "       [255, 255, 255, ..., 255, 255, 255]])"
      ]
     },
     "execution_count": 4,
     "metadata": {},
     "output_type": "execute_result"
    }
   ],
   "source": [
    "y[0].cpu().numpy()"
   ]
  },
  {
   "cell_type": "code",
   "execution_count": 7,
   "metadata": {},
   "outputs": [],
   "source": [
    "counts = torch.tensor([838628,   7529,      0,    345,  17273,      0,      0,  10904,  21450,\n",
    "           972,  17128,   5448,   1638,      0,      0,   8771,    521,  17227,\n",
    "         36215,  22531,      0]).float()\n",
    "\n",
    "weights = torch.tensor([1.1924e-06, 1.3282e-04, 0.0000e+00, 2.8986e-03, 5.7894e-05, 0.0000e+00,\n",
    "        0.0000e+00, 9.1709e-05, 4.6620e-05, 1.0288e-03, 5.8384e-05, 1.8355e-04,\n",
    "        6.1050e-04, 0.0000e+00, 0.0000e+00, 1.1401e-04, 1.9194e-03, 5.8048e-05,\n",
    "        2.7613e-05, 4.4383e-05, 0.0000e+00])"
   ]
  },
  {
   "cell_type": "code",
   "execution_count": 8,
   "metadata": {},
   "outputs": [
    {
     "data": {
      "text/plain": [
       "tensor(15.0000)"
      ]
     },
     "execution_count": 8,
     "metadata": {},
     "output_type": "execute_result"
    }
   ],
   "source": [
    "counts @ weights"
   ]
  },
  {
   "cell_type": "code",
   "execution_count": 5,
   "metadata": {},
   "outputs": [
    {
     "name": "stdout",
     "output_type": "stream",
     "text": [
      "tensor(1.0000)\n",
      "tensor(1.0000)\n",
      "tensor(0.)\n",
      "tensor(1.0000)\n",
      "tensor(1.0000)\n",
      "tensor(0.)\n",
      "tensor(0.)\n",
      "tensor(1.0000)\n",
      "tensor(1.0000)\n",
      "tensor(1.0000)\n",
      "tensor(1.0000)\n",
      "tensor(1.0000)\n",
      "tensor(1.0000)\n",
      "tensor(0.)\n",
      "tensor(0.)\n",
      "tensor(1.0000)\n",
      "tensor(1.0000)\n",
      "tensor(1.0000)\n",
      "tensor(1.0000)\n",
      "tensor(1.0000)\n",
      "tensor(0.)\n"
     ]
    }
   ],
   "source": [
    "for i in range(21):\n",
    "    print(counts[i] * weights[i])"
   ]
  },
  {
   "cell_type": "code",
   "execution_count": 52,
   "metadata": {},
   "outputs": [
    {
     "name": "stdout",
     "output_type": "stream",
     "text": [
      "torch.Size([16, 21])\n"
     ]
    },
    {
     "name": "stderr",
     "output_type": "stream",
     "text": [
      "/usr/local/lib/python3.10/dist-packages/torch/_functorch/vmap.py:391: UserWarning: There is a performance drop because we have not yet implemented the batching rule for aten::bincount. Please file us an issue on GitHub so that we can prioritize its implementation. (Triggered internally at ../aten/src/ATen/functorch/BatchedFallback.cpp:82.)\n",
      "  batched_outputs = func(*batched_inputs, **kwargs)\n"
     ]
    }
   ],
   "source": [
    "def count_classes_vectorized(labels, num_classes):\n",
    "    batch_size = labels.shape[0]\n",
    "    \n",
    "    # Flatten the labels tensor and create a batch index tensor\n",
    "    flat_labels = labels.reshape(batch_size, -1)\n",
    "    batch_index = torch.arange(batch_size).unsqueeze(1).expand_as(flat_labels)\n",
    "    \n",
    "    # Create a tensor of shape (batch_size * height * width, 2)\n",
    "    # where each row is [batch_index, label]\n",
    "    index_label = torch.stack([batch_index.reshape(-1), flat_labels.reshape(-1)], dim=1)\n",
    "    \n",
    "    # Use sparse tensor to efficiently count occurrences\n",
    "    counts = torch.sparse_coo_tensor(\n",
    "        index_label.t(),\n",
    "        torch.ones(index_label.shape[0], dtype=torch.int64),\n",
    "        size=(batch_size, num_classes)\n",
    "    ).to_dense()\n",
    "    \n",
    "    return counts\n",
    "\n",
    "def balanced_cross_entropy(y_hat, y):\n",
    "    counts_batch = count_classes_vectorized(y, 256)[:, :21]\n",
    "    weights = 1 / counts_batch\n",
    "\n",
    "    counts_batch = torch.vmap(torch.bincount, in_dims=0)(y.flatten(1), minlength=21)\n",
    "   \n",
    "    per_image_ce = torch.vmap(torch.nn.functional.cross_entropy, in_dims=(0))(y_hat.unsqueeze(1), y.unsqueeze(1))\n",
    "\n",
    "    # loss = torch.nn.functional.cross_entropy(y_hat, y, reduction='none')\n",
    "    # indices = torch.arange(16).unsqueeze(1).unsqueeze(2)\n",
    "    # weight_matrix = weights[indices, y]\n",
    "    # loss = loss * weight_matrix\n",
    "    \n",
    "    # # Sum the loss across the batch\n",
    "    # loss = loss.sum() / y_hat.shape[1]\n",
    "    # return loss\n",
    "\n",
    "y = torch.randint(0, 21, (16, 256, 256))\n",
    "y_hat = torch.randn(16, 21, 256, 256)\n",
    "\n",
    "balanced_cross_entropy(y_hat, y)"
   ]
  }
 ],
 "metadata": {
  "kernelspec": {
   "display_name": "Python 3",
   "language": "python",
   "name": "python3"
  },
  "language_info": {
   "codemirror_mode": {
    "name": "ipython",
    "version": 3
   },
   "file_extension": ".py",
   "mimetype": "text/x-python",
   "name": "python",
   "nbconvert_exporter": "python",
   "pygments_lexer": "ipython3",
   "version": "3.10.12"
  }
 },
 "nbformat": 4,
 "nbformat_minor": 2
}
