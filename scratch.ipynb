{
 "cells": [
  {
   "cell_type": "code",
   "execution_count": 3,
   "metadata": {},
   "outputs": [],
   "source": [
    "import os\n",
    "from transformers import (\n",
    "    SegformerForSemanticSegmentation,\n",
    "    SegformerConfig,\n",
    "    AutoConfig,\n",
    "    AutoImageProcessor,\n",
    "    AutoModelForSemanticSegmentation,\n",
    "    SegformerLayer,\n",
    ")\n",
    "\n",
    "from transformers.models.segformer.modeling_segformer import (\n",
    "    SegformerAttention,\n",
    "    SegformerDropPath,\n",
    "    SegformerMixFFN,\n",
    ")\n",
    "\n",
    "from pascal_utils import PascalTrainer, get_dataset\n",
    "import torch"
   ]
  },
  {
   "cell_type": "code",
   "execution_count": null,
   "metadata": {},
   "outputs": [],
   "source": [
    "class FC_SegformerLayer(SegformerLayer):\n",
    "    \"\"\"This corresponds to the Block class in the original implementation.\"\"\"\n",
    "\n",
    "    def __init__(self, config, hidden_size, num_attention_heads, drop_path, sequence_reduction_ratio, mlp_ratio):\n",
    "        super().__init__()\n",
    "        self.layer_norm_1 = torch.nn.LayerNorm(hidden_size)\n",
    "        self.attention = SegformerAttention(\n",
    "            config,\n",
    "            hidden_size=hidden_size,\n",
    "            num_attention_heads=num_attention_heads,\n",
    "            sequence_reduction_ratio=sequence_reduction_ratio,\n",
    "        )\n",
    "        self.drop_path = SegformerDropPath(drop_path) if drop_path > 0.0 else torch.nn.Identity()\n",
    "        self.layer_norm_2 = torch.nn.LayerNorm(hidden_size)\n",
    "        mlp_hidden_size = int(hidden_size * mlp_ratio)\n",
    "        self.mlp = SegformerMixFFN(config, in_features=hidden_size, hidden_features=mlp_hidden_size)\n",
    "\n",
    "    def forward(self, hidden_states, height, width, output_attentions=False):\n",
    "        self_attention_outputs = self.attention(\n",
    "            self.layer_norm_1(hidden_states),  # in Segformer, layernorm is applied before self-attention\n",
    "            height,\n",
    "            width,\n",
    "            output_attentions=output_attentions,\n",
    "        )\n",
    "\n",
    "        attention_output = self_attention_outputs[0]\n",
    "        outputs = self_attention_outputs[1:]  # add self attentions if we output attention weights\n",
    "\n",
    "        # first residual connection (with stochastic depth)\n",
    "        attention_output = self.drop_path(attention_output)\n",
    "        hidden_states = attention_output + hidden_states\n",
    "\n",
    "        mlp_output = self.mlp(self.layer_norm_2(hidden_states), height, width)\n",
    "\n",
    "        # second residual connection (with stochastic depth)\n",
    "        mlp_output = self.drop_path(mlp_output)\n",
    "        layer_output = mlp_output + hidden_states\n",
    "\n",
    "        outputs = (layer_output,) + outputs\n",
    "\n",
    "        return outputs"
   ]
  },
  {
   "cell_type": "code",
   "execution_count": null,
   "metadata": {},
   "outputs": [],
   "source": [
    "segformer_for_semantic_segmentation = SegformerForSemanticSegmentation()\n",
    "segformer_model = segformer_for_semantic_segmentation.segformer\n",
    "segformer_encoder = segformer_model.encoder"
   ]
  }
 ],
 "metadata": {
  "kernelspec": {
   "display_name": "Python 3",
   "language": "python",
   "name": "python3"
  },
  "language_info": {
   "codemirror_mode": {
    "name": "ipython",
    "version": 3
   },
   "file_extension": ".py",
   "mimetype": "text/x-python",
   "name": "python",
   "nbconvert_exporter": "python",
   "pygments_lexer": "ipython3",
   "version": "3.10.12"
  }
 },
 "nbformat": 4,
 "nbformat_minor": 2
}
